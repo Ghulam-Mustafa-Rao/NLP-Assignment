{
  "nbformat": 4,
  "nbformat_minor": 0,
  "metadata": {
    "colab": {
      "provenance": []
    },
    "kernelspec": {
      "name": "python3",
      "display_name": "Python 3"
    },
    "language_info": {
      "name": "python"
    }
  },
  "cells": [
    {
      "cell_type": "markdown",
      "source": [
        "# Step 1: Data Acquisition & Exploration\n"
      ],
      "metadata": {
        "id": "0Rhyf8J7CV-f"
      }
    },
    {
      "cell_type": "markdown",
      "source": [
        "* We load the dataset directly from GitHub.\n",
        "\n",
        "* Check class distribution to see if it's balanced (important for model evaluation).\n",
        "\n",
        "* Show example messages for context."
      ],
      "metadata": {
        "id": "sXTDOok7EMv1"
      }
    },
    {
      "cell_type": "code",
      "execution_count": 10,
      "metadata": {
        "colab": {
          "base_uri": "https://localhost:8080/",
          "height": 594
        },
        "id": "c3llW2kiB4nl",
        "outputId": "efef3356-df67-4167-e18d-20024b76b308"
      },
      "outputs": [
        {
          "output_type": "stream",
          "name": "stdout",
          "text": [
            "Dataset shape: (5572, 2)\n",
            "\n",
            "Class distribution:\n",
            "label\n",
            "ham     4825\n",
            "spam     747\n",
            "Name: count, dtype: int64\n"
          ]
        },
        {
          "output_type": "display_data",
          "data": {
            "text/plain": [
              "<Figure size 640x480 with 1 Axes>"
            ],
            "image/png": "[encoded data removed]"
          },
          "metadata": {}
        }
      ],
      "source": [
        "import pandas as pd\n",
        "import matplotlib.pyplot as plt\n",
        "import seaborn as sns\n",
        "\n",
        "# Load dataset\n",
        "url = \"https://raw.githubusercontent.com/justmarkham/pycon-2016-tutorial/master/data/sms.tsv\"\n",
        "df = pd.read_csv(url, sep='\\t', header=None, names=[\"label\", \"message\"])\n",
        "\n",
        "# Overview\n",
        "print(\"Dataset shape:\", df.shape)\n",
        "print(\"\\nClass distribution:\")\n",
        "print(df['label'].value_counts())\n",
        "\n",
        "# Visualize class balance\n",
        "sns.countplot(data=df, x='label')\n",
        "plt.title(\"Class Distribution\")\n",
        "plt.show()\n"
      ]
    },
    {
      "cell_type": "markdown",
      "source": [
        "The dataset is imbalanced.\n",
        "\n",
        "~86.6% of messages are ham (not spam), while ~13.4% are spam.\n",
        "\n",
        "This imbalance means accuracy is not sufficient as a metric — we will also use precision, recall, and F1-score (especially macro-averaged versions)."
      ],
      "metadata": {
        "id": "6IuSFVm2DsJ-"
      }
    },
    {
      "cell_type": "code",
      "source": [
        "\n",
        "# Sample messages per class\n",
        "for label in df['label'].unique():\n",
        "    print(f\"\\nExamples of {label.upper()} messages:\")\n",
        "    print(df[df['label'] == label]['message'].sample(3, random_state=42).to_string(index=False))\n"
      ],
      "metadata": {
        "colab": {
          "base_uri": "https://localhost:8080/"
        },
        "id": "N2_wy0IeDuKO",
        "outputId": "d148599e-0b44-4502-b822-e28808cdda31"
      },
      "execution_count": 11,
      "outputs": [
        {
          "output_type": "stream",
          "name": "stdout",
          "text": [
            "\n",
            "Examples of HAM messages:\n",
            "If i not meeting ü all rite then i'll go home l...\n",
            "I.ll always be there, even if its just in spiri...\n",
            "                  Sorry that took so long, omw now\n",
            "\n",
            "Examples of SPAM messages:\n",
            "Summers finally here! Fancy a chat or flirt wit...\n",
            "This is the 2nd time we have tried 2 contact u....\n",
            "Get ur 1st RINGTONE FREE NOW! Reply to this msg...\n"
          ]
        }
      ]
    },
    {
      "cell_type": "markdown",
      "source": [
        "# Step 2: Preprocessing Pipeline"
      ],
      "metadata": {
        "id": "WDP7N10-CkKX"
      }
    },
    {
      "cell_type": "markdown",
      "source": [
        "* Lowercasing\n",
        "* Removing punctuation and digits\n",
        "* Tokenization\n",
        "* Stopword removal\n",
        "* Lemmatization"
      ],
      "metadata": {
        "id": "fI5bR9HEEJhF"
      }
    },
    {
      "cell_type": "code",
      "source": [
        "import nltk\n",
        "import re\n",
        "import string\n",
        "from nltk.corpus import stopwords\n",
        "from nltk.tokenize import word_tokenize\n",
        "from nltk.stem import WordNetLemmatizer\n",
        "\n",
        "nltk.download(\"punkt\")\n",
        "nltk.download(\"punkt_tab\")\n",
        "nltk.download(\"stopwords\")\n",
        "nltk.download(\"wordnet\")\n",
        "\n",
        "stop_words = set(stopwords.words(\"english\"))\n",
        "lemmatizer = WordNetLemmatizer()\n",
        "\n",
        "def preprocess(text):\n",
        "    text = text.lower()\n",
        "    text = re.sub(f\"[{re.escape(string.punctuation)}]\", \"\", text)\n",
        "    tokens = word_tokenize(text)\n",
        "    tokens = [lemmatizer.lemmatize(word) for word in tokens if word.isalpha() and word not in stop_words]\n",
        "    return \" \".join(tokens)\n",
        "\n",
        "# Apply preprocessing\n",
        "df[\"clean_text\"] = df[\"message\"].apply(preprocess)\n",
        "df[[\"message\", \"clean_text\"]].head()\n"
      ],
      "metadata": {
        "colab": {
          "base_uri": "https://localhost:8080/",
          "height": 345
        },
        "id": "c8rQgiSlCmHP",
        "outputId": "85e432dd-2359-4dbd-c3b6-42dba0b57b7e"
      },
      "execution_count": 12,
      "outputs": [
        {
          "output_type": "stream",
          "name": "stderr",
          "text": [
            "[nltk_data] Downloading package punkt to /root/nltk_data...\n",
            "[nltk_data]   Package punkt is already up-to-date!\n",
            "[nltk_data] Downloading package punkt_tab to /root/nltk_data...\n",
            "[nltk_data]   Package punkt_tab is already up-to-date!\n",
            "[nltk_data] Downloading package stopwords to /root/nltk_data...\n",
            "[nltk_data]   Package stopwords is already up-to-date!\n",
            "[nltk_data] Downloading package wordnet to /root/nltk_data...\n",
            "[nltk_data]   Package wordnet is already up-to-date!\n"
          ]
        },
        {
          "output_type": "execute_result",
          "data": {
            "text/plain": [
              "                                             message  \\\n",
              "0  Go until jurong point, crazy.. Available only ...   \n",
              "1                      Ok lar... Joking wif u oni...   \n",
              "2  Free entry in 2 a wkly comp to win FA Cup fina...   \n",
              "3  U dun say so early hor... U c already then say...   \n",
              "4  Nah I don't think he goes to usf, he lives aro...   \n",
              "\n",
              "                                          clean_text  \n",
              "0  go jurong point crazy available bugis n great ...  \n",
              "1                            ok lar joking wif u oni  \n",
              "2  free entry wkly comp win fa cup final tkts may...  \n",
              "3                u dun say early hor u c already say  \n",
              "4           nah dont think go usf life around though  "
            ],
            "text/html": [
              "\n",
              "  <div id=\"df-ad606235-3d98-4a30-ba59-5cdddb4229d0\" class=\"colab-df-container\">\n",
              "    <div>\n",
              "<style scoped>\n",
              "    .dataframe tbody tr th:only-of-type {\n",
              "        vertical-align: middle;\n",
              "    }\n",
              "\n",
              "    .dataframe tbody tr th {\n",
              "        vertical-align: top;\n",
              "    }\n",
              "\n",
              "    .dataframe thead th {\n",
              "        text-align: right;\n",
              "    }\n",
              "</style>\n",
              "<table border=\"1\" class=\"dataframe\">\n",
              "  <thead>\n",
              "    <tr style=\"text-align: right;\">\n",
              "      <th></th>\n",
              "      <th>message</th>\n",
              "      <th>clean_text</th>\n",
              "    </tr>\n",
              "  </thead>\n",
              "  <tbody>\n",
              "    <tr>\n",
              "      <th>0</th>\n",
              "      <td>Go until jurong point, crazy.. Available only ...</td>\n",
              "      <td>go jurong point crazy available bugis n great ...</td>\n",
              "    </tr>\n",
              "    <tr>\n",
              "      <th>1</th>\n",
              "      <td>Ok lar... Joking wif u oni...</td>\n",
              "      <td>ok lar joking wif u oni</td>\n",
              "    </tr>\n",
              "    <tr>\n",
              "      <th>2</th>\n",
              "      <td>Free entry in 2 a wkly comp to win FA Cup fina...</td>\n",
              "      <td>free entry wkly comp win fa cup final tkts may...</td>\n",
              "    </tr>\n",
              "    <tr>\n",
              "      <th>3</th>\n",
              "      <td>U dun say so early hor... U c already then say...</td>\n",
              "      <td>u dun say early hor u c already say</td>\n",
              "    </tr>\n",
              "    <tr>\n",
              "      <th>4</th>\n",
              "      <td>Nah I don't think he goes to usf, he lives aro...</td>\n",
              "      <td>nah dont think go usf life around though</td>\n",
              "    </tr>\n",
              "  </tbody>\n",
              "</table>\n",
              "</div>\n",
              "    <div class=\"colab-df-buttons\">\n",
              "\n",
              "  <div class=\"colab-df-container\">\n",
              "    <button class=\"colab-df-convert\" onclick=\"convertToInteractive('df-ad606235-3d98-4a30-ba59-5cdddb4229d0')\"\n",
              "            title=\"Convert this dataframe to an interactive table.\"\n",
              "            style=\"display:none;\">\n",
              "\n",
              "  <svg xmlns=\"http://www.w3.org/2000/svg\" height=\"24px\" viewBox=\"0 -960 960 960\">\n",
              "    <path d=\"M120-120v-720h720v720H120Zm60-500h600v-160H180v160Zm220 220h160v-160H400v160Zm0 220h160v-160H400v160ZM180-400h160v-160H180v160Zm440 0h160v-160H620v160ZM180-180h160v-160H180v160Zm440 0h160v-160H620v160Z\"/>\n",
              "  </svg>\n",
              "    </button>\n",
              "\n",
              "  <style>\n",
              "    .colab-df-container {\n",
              "      display:flex;\n",
              "      gap: 12px;\n",
              "    }\n",
              "\n",
              "    .colab-df-convert {\n",
              "      background-color: #E8F0FE;\n",
              "      border: none;\n",
              "      border-radius: 50%;\n",
              "      cursor: pointer;\n",
              "      display: none;\n",
              "      fill: #1967D2;\n",
              "      height: 32px;\n",
              "      padding: 0 0 0 0;\n",
              "      width: 32px;\n",
              "    }\n",
              "\n",
              "    .colab-df-convert:hover {\n",
              "      background-color: #E2EBFA;\n",
              "      box-shadow: 0px 1px 2px rgba(60, 64, 67, 0.3), 0px 1px 3px 1px rgba(60, 64, 67, 0.15);\n",
              "      fill: #174EA6;\n",
              "    }\n",
              "\n",
              "    .colab-df-buttons div {\n",
              "      margin-bottom: 4px;\n",
              "    }\n",
              "\n",
              "    [theme=dark] .colab-df-convert {\n",
              "      background-color: #3B4455;\n",
              "      fill: #D2E3FC;\n",
              "    }\n",
              "\n",
              "    [theme=dark] .colab-df-convert:hover {\n",
              "      background-color: #434B5C;\n",
              "      box-shadow: 0px 1px 3px 1px rgba(0, 0, 0, 0.15);\n",
              "      filter: drop-shadow(0px 1px 2px rgba(0, 0, 0, 0.3));\n",
              "      fill: #FFFFFF;\n",
              "    }\n",
              "  </style>\n",
              "\n",
              "    <script>\n",
              "      const buttonEl =\n",
              "        document.querySelector('#df-ad606235-3d98-4a30-ba59-5cdddb4229d0 button.colab-df-convert');\n",
              "      buttonEl.style.display =\n",
              "        google.colab.kernel.accessAllowed ? 'block' : 'none';\n",
              "\n",
              "      async function convertToInteractive(key) {\n",
              "        const element = document.querySelector('#df-ad606235-3d98-4a30-ba59-5cdddb4229d0');\n",
              "        const dataTable =\n",
              "          await google.colab.kernel.invokeFunction('convertToInteractive',\n",
              "                                                    [key], {});\n",
              "        if (!dataTable) return;\n",
              "\n",
              "        const docLinkHtml = 'Like what you see? Visit the ' +\n",
              "          '<a target=\"_blank\" href=https://colab.research.google.com/notebooks/data_table.ipynb>data table notebook</a>'\n",
              "          + ' to learn more about interactive tables.';\n",
              "        element.innerHTML = '';\n",
              "        dataTable['output_type'] = 'display_data';\n",
              "        await google.colab.output.renderOutput(dataTable, element);\n",
              "        const docLink = document.createElement('div');\n",
              "        docLink.innerHTML = docLinkHtml;\n",
              "        element.appendChild(docLink);\n",
              "      }\n",
              "    </script>\n",
              "  </div>\n",
              "\n",
              "\n",
              "    <div id=\"df-b6950a87-cf67-4f34-89cd-54a8549ac79d\">\n",
              "      <button class=\"colab-df-quickchart\" onclick=\"quickchart('df-b6950a87-cf67-4f34-89cd-54a8549ac79d')\"\n",
              "                title=\"Suggest charts\"\n",
              "                style=\"display:none;\">\n",
              "\n",
              "<svg xmlns=\"http://www.w3.org/2000/svg\" height=\"24px\"viewBox=\"0 0 24 24\"\n",
              "     width=\"24px\">\n",
              "    <g>\n",
              "        <path d=\"M19 3H5c-1.1 0-2 .9-2 2v14c0 1.1.9 2 2 2h14c1.1 0 2-.9 2-2V5c0-1.1-.9-2-2-2zM9 17H7v-7h2v7zm4 0h-2V7h2v10zm4 0h-2v-4h2v4z\"/>\n",
              "    </g>\n",
              "</svg>\n",
              "      </button>\n",
              "\n",
              "<style>\n",
              "  .colab-df-quickchart {\n",
              "      --bg-color: #E8F0FE;\n",
              "      --fill-color: #1967D2;\n",
              "      --hover-bg-color: #E2EBFA;\n",
              "      --hover-fill-color: #174EA6;\n",
              "      --disabled-fill-color: #AAA;\n",
              "      --disabled-bg-color: #DDD;\n",
              "  }\n",
              "\n",
              "  [theme=dark] .colab-df-quickchart {\n",
              "      --bg-color: #3B4455;\n",
              "      --fill-color: #D2E3FC;\n",
              "      --hover-bg-color: #434B5C;\n",
              "      --hover-fill-color: #FFFFFF;\n",
              "      --disabled-bg-color: #3B4455;\n",
              "      --disabled-fill-color: #666;\n",
              "  }\n",
              "\n",
              "  .colab-df-quickchart {\n",
              "    background-color: var(--bg-color);\n",
              "    border: none;\n",
              "    border-radius: 50%;\n",
              "    cursor: pointer;\n",
              "    display: none;\n",
              "    fill: var(--fill-color);\n",
              "    height: 32px;\n",
              "    padding: 0;\n",
              "    width: 32px;\n",
              "  }\n",
              "\n",
              "  .colab-df-quickchart:hover {\n",
              "    background-color: var(--hover-bg-color);\n",
              "    box-shadow: 0 1px 2px rgba(60, 64, 67, 0.3), 0 1px 3px 1px rgba(60, 64, 67, 0.15);\n",
              "    fill: var(--button-hover-fill-color);\n",
              "  }\n",
              "\n",
              "  .colab-df-quickchart-complete:disabled,\n",
              "  .colab-df-quickchart-complete:disabled:hover {\n",
              "    background-color: var(--disabled-bg-color);\n",
              "    fill: var(--disabled-fill-color);\n",
              "    box-shadow: none;\n",
              "  }\n",
              "\n",
              "  .colab-df-spinner {\n",
              "    border: 2px solid var(--fill-color);\n",
              "    border-color: transparent;\n",
              "    border-bottom-color: var(--fill-color);\n",
              "    animation:\n",
              "      spin 1s steps(1) infinite;\n",
              "  }\n",
              "\n",
              "  @keyframes spin {\n",
              "    0% {\n",
              "      border-color: transparent;\n",
              "      border-bottom-color: var(--fill-color);\n",
              "      border-left-color: var(--fill-color);\n",
              "    }\n",
              "    20% {\n",
              "      border-color: transparent;\n",
              "      border-left-color: var(--fill-color);\n",
              "      border-top-color: var(--fill-color);\n",
              "    }\n",
              "    30% {\n",
              "      border-color: transparent;\n",
              "      border-left-color: var(--fill-color);\n",
              "      border-top-color: var(--fill-color);\n",
              "      border-right-color: var(--fill-color);\n",
              "    }\n",
              "    40% {\n",
              "      border-color: transparent;\n",
              "      border-right-color: var(--fill-color);\n",
              "      border-top-color: var(--fill-color);\n",
              "    }\n",
              "    60% {\n",
              "      border-color: transparent;\n",
              "      border-right-color: var(--fill-color);\n",
              "    }\n",
              "    80% {\n",
              "      border-color: transparent;\n",
              "      border-right-color: var(--fill-color);\n",
              "      border-bottom-color: var(--fill-color);\n",
              "    }\n",
              "    90% {\n",
              "      border-color: transparent;\n",
              "      border-bottom-color: var(--fill-color);\n",
              "    }\n",
              "  }\n",
              "</style>\n",
              "\n",
              "      <script>\n",
              "        async function quickchart(key) {\n",
              "          const quickchartButtonEl =\n",
              "            document.querySelector('#' + key + ' button');\n",
              "          quickchartButtonEl.disabled = true;  // To prevent multiple clicks.\n",
              "          quickchartButtonEl.classList.add('colab-df-spinner');\n",
              "          try {\n",
              "            const charts = await google.colab.kernel.invokeFunction(\n",
              "                'suggestCharts', [key], {});\n",
              "          } catch (error) {\n",
              "            console.error('Error during call to suggestCharts:', error);\n",
              "          }\n",
              "          quickchartButtonEl.classList.remove('colab-df-spinner');\n",
              "          quickchartButtonEl.classList.add('colab-df-quickchart-complete');\n",
              "        }\n",
              "        (() => {\n",
              "          let quickchartButtonEl =\n",
              "            document.querySelector('#df-b6950a87-cf67-4f34-89cd-54a8549ac79d button');\n",
              "          quickchartButtonEl.style.display =\n",
              "            google.colab.kernel.accessAllowed ? 'block' : 'none';\n",
              "        })();\n",
              "      </script>\n",
              "    </div>\n",
              "\n",
              "    </div>\n",
              "  </div>\n"
            ],
            "application/vnd.google.colaboratory.intrinsic+json": {
              "type": "dataframe",
              "summary": "{\n  \"name\": \"df[[\\\"message\\\", \\\"clean_text\\\"]]\",\n  \"rows\": 5,\n  \"fields\": [\n    {\n      \"column\": \"message\",\n      \"properties\": {\n        \"dtype\": \"string\",\n        \"num_unique_values\": 5,\n        \"samples\": [\n          \"Ok lar... Joking wif u oni...\",\n          \"Nah I don't think he goes to usf, he lives around here though\",\n          \"Free entry in 2 a wkly comp to win FA Cup final tkts 21st May 2005. Text FA to 87121 to receive entry question(std txt rate)T&C's apply 08452810075over18's\"\n        ],\n        \"semantic_type\": \"\",\n        \"description\": \"\"\n      }\n    },\n    {\n      \"column\": \"clean_text\",\n      \"properties\": {\n        \"dtype\": \"string\",\n        \"num_unique_values\": 5,\n        \"samples\": [\n          \"ok lar joking wif u oni\",\n          \"nah dont think go usf life around though\",\n          \"free entry wkly comp win fa cup final tkts may text fa receive entry questionstd txt ratetcs apply\"\n        ],\n        \"semantic_type\": \"\",\n        \"description\": \"\"\n      }\n    }\n  ]\n}"
            }
          },
          "metadata": {},
          "execution_count": 12
        }
      ]
    },
    {
      "cell_type": "markdown",
      "source": [
        "* Lowercasing: Normalizes words like \"Free\" and \"free\".\n",
        "\n",
        "* Stopword removal: Removes common non-informative words like \"is\", \"the\", \"a\".\n",
        "\n",
        "* Lemmatization: Brings words to their base form (e.g., \"goes\" → \"go\")."
      ],
      "metadata": {
        "id": "9K0S6kgrFDr9"
      }
    },
    {
      "cell_type": "markdown",
      "source": [
        "# Step 3: Feature Engineering"
      ],
      "metadata": {
        "id": "2F6FfyGdCtOn"
      }
    },
    {
      "cell_type": "markdown",
      "source": [
        "* Sparse vectors capture frequency of words (BoW/TF-IDF).\n",
        "\n",
        "* Dense vectors use semantic embeddings via Word2Vec and average them for each document."
      ],
      "metadata": {
        "id": "78E4WOCfEYcl"
      }
    },
    {
      "cell_type": "markdown",
      "source": [
        "## Sparse Features (Bag of Words & TF-IDF):"
      ],
      "metadata": {
        "id": "h9exc1R4CyjG"
      }
    },
    {
      "cell_type": "code",
      "source": [
        "from sklearn.feature_extraction.text import CountVectorizer, TfidfVectorizer\n",
        "\n",
        "# 1. Bag of Words (unigram + bigram)\n",
        "bow_vectorizer = CountVectorizer(ngram_range=(1, 2))  # Uni + Bi-grams\n",
        "bow_matrix = bow_vectorizer.fit_transform(df['clean_text'])\n",
        "print(\"BoW shape:\", bow_matrix.shape)\n",
        "\n",
        "# 2. TF-IDF (unigram + bigram)\n",
        "tfidf_vectorizer = TfidfVectorizer(ngram_range=(1, 2))\n",
        "tfidf_matrix = tfidf_vectorizer.fit_transform(df['clean_text'])\n",
        "print(\"TF-IDF shape:\", tfidf_matrix.shape)"
      ],
      "metadata": {
        "colab": {
          "base_uri": "https://localhost:8080/"
        },
        "id": "5b9kH1PlCqov",
        "outputId": "23475177-1c4f-4fa3-e065-e841e81e9331"
      },
      "execution_count": 13,
      "outputs": [
        {
          "output_type": "stream",
          "name": "stdout",
          "text": [
            "BoW shape: (5572, 37195)\n",
            "TF-IDF shape: (5572, 37195)\n"
          ]
        }
      ]
    },
    {
      "cell_type": "markdown",
      "source": [
        "## Dense Features (Word2Vec):"
      ],
      "metadata": {
        "id": "OvtSAH91C18e"
      }
    },
    {
      "cell_type": "code",
      "source": [
        "#  !pip install gensim"
      ],
      "metadata": {
        "id": "fwRTf7oqGZ5E"
      },
      "execution_count": 14,
      "outputs": []
    },
    {
      "cell_type": "code",
      "source": [
        "from gensim.models import Word2Vec\n",
        "import numpy as np\n",
        "\n",
        "#  Tokenize text\n",
        "tokenized_text = [text.split() for text in df['clean_text']]\n",
        "\n",
        "# Train Word2Vec model (CBOW)\n",
        "w2v_model = Word2Vec(sentences=tokenized_text, vector_size=100, window=5, min_count=1, workers=4)\n",
        "print(\"Word2Vec model trained.\")\n",
        "\n",
        "# Get average Word2Vec vector for each document\n",
        "def get_doc_vector(doc):\n",
        "    vecs = [w2v_model.wv[word] for word in doc if word in w2v_model.wv]\n",
        "    return np.mean(vecs, axis=0) if vecs else np.zeros(w2v_model.vector_size)\n",
        "\n",
        "dense_vectors = np.array([get_doc_vector(doc) for doc in tokenized_text])\n",
        "print(\"Word2Vec Dense Vector shape:\", dense_vectors.shape)\n",
        "\n",
        "# Save for modeling step\n",
        "df['doc_vector'] = list(dense_vectors)\n",
        "\n",
        "X_w2v = dense_vectors"
      ],
      "metadata": {
        "colab": {
          "base_uri": "https://localhost:8080/"
        },
        "id": "xwlgytAMC0n_",
        "outputId": "d3888efe-62e7-48bb-d969-5a6c6646ca10"
      },
      "execution_count": 15,
      "outputs": [
        {
          "output_type": "stream",
          "name": "stdout",
          "text": [
            "Word2Vec model trained.\n",
            "Word2Vec Dense Vector shape: (5572, 100)\n"
          ]
        }
      ]
    },
    {
      "cell_type": "markdown",
      "source": [
        "## Optional: Character 3‑gram Markov Chain Sentence Generator"
      ],
      "metadata": {
        "id": "zX3VQwgMGv9M"
      }
    },
    {
      "cell_type": "code",
      "source": [
        "import random\n",
        "from collections import defaultdict\n",
        "\n",
        "\n",
        "def build_markov_model(texts, n=3):\n",
        "    model = defaultdict(lambda: defaultdict(int))\n",
        "    for sentence in texts:\n",
        "        sentence = sentence.replace(\" \", \"_\")  # Replace space with _\n",
        "        if len(sentence) < n:\n",
        "            continue\n",
        "        for i in range(len(sentence) - n):\n",
        "            prefix = sentence[i:i+n-1]\n",
        "            next_char = sentence[i+n-1]\n",
        "            model[prefix][next_char] += 1\n",
        "    # Normalize probabilities\n",
        "    for prefix in model:\n",
        "        total = float(sum(model[prefix].values()))\n",
        "        for char in model[prefix]:\n",
        "            model[prefix][char] /= total\n",
        "    return model\n",
        "\n",
        "def generate_text(model, n=3, max_len=100):\n",
        "    if not model:\n",
        "        return \"Markov model is empty.\"\n",
        "    prefix = random.choice(list(model.keys()))\n",
        "    result = prefix\n",
        "    for _ in range(max_len - n + 1):\n",
        "        if prefix not in model:\n",
        "            break\n",
        "        next_chars = list(model[prefix].keys())\n",
        "        probs = list(model[prefix].values())\n",
        "        if not next_chars:\n",
        "            break\n",
        "        next_char = random.choices(next_chars, probs)[0]\n",
        "        result += next_char\n",
        "        prefix = result[-(n-1):]\n",
        "    return result.replace(\"_\", \" \")\n",
        "\n",
        "# Prepare text for Markov model\n",
        "all_text = \" \".join(df['clean_text'].dropna().tolist())\n",
        "if len(all_text.strip()) < 10:\n",
        "    all_text = \"natural language processing is a fascinating field of study\"\n",
        "\n",
        "markov_model = build_markov_model([all_text], n=3)\n",
        "print(\"Markov Chain model built.\")\n",
        "\n",
        "# Generate 5 sample sentences\n",
        "print(\"\\n--- Sample Sentences from Markov Chain ---\")\n",
        "for i in range(5):\n",
        "    print(f\"{i+1}.\", generate_text(markov_model, n=3, max_len=80))"
      ],
      "metadata": {
        "colab": {
          "base_uri": "https://localhost:8080/"
        },
        "id": "PMAHtz0AGyFu",
        "outputId": "dc51f268-ee53-44be-8e64-50b0105c83f1"
      },
      "execution_count": 16,
      "outputs": [
        {
          "output_type": "stream",
          "name": "stdout",
          "text": [
            "Markov Chain model built.\n",
            "\n",
            "--- Sample Sentences from Markov Chain ---\n",
            "1. lgme wanget hopet day newd urd stily g lorean jay worry seell ill al mobill fa s\n",
            "2. wly ilike fridea leet ne noon thing subsch now ding dendection becind sught rear\n",
            "3. n tiought thinfinksg r wardia gotiisco cla awanstomont lover sainee pailed u por\n",
            "4. eks culabt unsh coince decont on hook cayetw se done lindz ple si im for ping mu\n",
            "5. y recrem blogetod ser lots whealy amisit ren got da seekly frie esh acer toppy r\n"
          ]
        }
      ]
    },
    {
      "cell_type": "markdown",
      "source": [
        "# Step 4: Modelling & Evaluation"
      ],
      "metadata": {
        "id": "5dLrYSK4DBJm"
      }
    },
    {
      "cell_type": "markdown",
      "source": [
        "We’ll train and evaluate the following classifiers:\n",
        "\n",
        "Multinomial Naive Bayes – good for sparse features (BoW, TF-IDF)\n",
        "\n",
        "Logistic Regression – works well with both sparse and dense features\n",
        "\n",
        "Support Vector Machine (SVM) – effective with TF-IDF\n",
        "\n",
        "Evaluate using: Accuracy, Precision, Recall, F1 Score, and Confusion Matrix\n",
        "\n",
        "We will evaluate all three classifiers on:\n",
        "\n",
        "Bag-of-Words (BoW)\n",
        "\n",
        "TF-IDF\n",
        "\n"
      ],
      "metadata": {
        "id": "nOQZodn6Hwy8"
      }
    },
    {
      "cell_type": "markdown",
      "source": [
        "## Train/test split:"
      ],
      "metadata": {
        "id": "G-VUf09eDH0u"
      }
    },
    {
      "cell_type": "code",
      "source": [
        "from sklearn.model_selection import train_test_split\n",
        "from sklearn.naive_bayes import MultinomialNB\n",
        "from sklearn.linear_model import LogisticRegression\n",
        "from sklearn.svm import LinearSVC\n",
        "from sklearn.metrics import classification_report, confusion_matrix\n",
        "import seaborn as sns\n",
        "import matplotlib.pyplot as plt\n"
      ],
      "metadata": {
        "id": "-nb_MT7TH8xL"
      },
      "execution_count": 17,
      "outputs": []
    },
    {
      "cell_type": "code",
      "source": [
        "# Target\n",
        "y = df['label']\n",
        "\n",
        "# Split for all 3 vector types\n",
        "X_train_bow, X_test_bow, y_train, y_test = train_test_split(bow_matrix, y, test_size=0.2, random_state=42, stratify=y)\n",
        "X_train_tfidf, X_test_tfidf, _, _ = train_test_split(tfidf_matrix, y, test_size=0.2, random_state=42, stratify=y)\n",
        "X_train_w2v, X_test_w2v, _, _ = train_test_split(X_w2v, y, test_size=0.2, random_state=42, stratify=y)\n"
      ],
      "metadata": {
        "id": "teOzH7cCC4Cu"
      },
      "execution_count": 18,
      "outputs": []
    },
    {
      "cell_type": "markdown",
      "source": [
        "## Train and evaluate models:"
      ],
      "metadata": {
        "id": "ks6eK-IjDKHe"
      }
    },
    {
      "cell_type": "code",
      "source": [
        "from sklearn.naive_bayes import MultinomialNB\n",
        "from sklearn.linear_model import LogisticRegression\n",
        "from sklearn.svm import LinearSVC\n",
        "from sklearn.metrics import classification_report, accuracy_score"
      ],
      "metadata": {
        "id": "GGIY_MpIJPK6"
      },
      "execution_count": 19,
      "outputs": []
    },
    {
      "cell_type": "markdown",
      "source": [
        " ## Model 1: Multinomial Naive Bayes on BoW"
      ],
      "metadata": {
        "id": "RX6OFvyWJIhC"
      }
    },
    {
      "cell_type": "code",
      "source": [
        "print(\"\\n--- Multinomial Naive Bayes (BoW) ---\")\n",
        "nb_bow = MultinomialNB()\n",
        "nb_bow.fit(X_train_bow, y_train)\n",
        "pred_bow = nb_bow.predict(X_test_bow)\n",
        "print(classification_report(y_test, pred_bow))"
      ],
      "metadata": {
        "colab": {
          "base_uri": "https://localhost:8080/"
        },
        "id": "jLxuIUuNJMtC",
        "outputId": "0b60908b-68be-47c1-ef5d-6b8a449eae1a"
      },
      "execution_count": 20,
      "outputs": [
        {
          "output_type": "stream",
          "name": "stdout",
          "text": [
            "\n",
            "--- Multinomial Naive Bayes (BoW) ---\n",
            "              precision    recall  f1-score   support\n",
            "\n",
            "         ham       0.99      0.96      0.97       966\n",
            "        spam       0.77      0.94      0.85       149\n",
            "\n",
            "    accuracy                           0.95      1115\n",
            "   macro avg       0.88      0.95      0.91      1115\n",
            "weighted avg       0.96      0.95      0.96      1115\n",
            "\n"
          ]
        }
      ]
    },
    {
      "cell_type": "markdown",
      "source": [
        "## Model 2: Logistic Regression on TF-IDF"
      ],
      "metadata": {
        "id": "z1fgPyb4JSPa"
      }
    },
    {
      "cell_type": "code",
      "source": [
        "print(\"\\n--- Logistic Regression (TF-IDF) ---\")\n",
        "lr_tfidf = LogisticRegression(max_iter=1000)\n",
        "lr_tfidf.fit(X_train_tfidf, y_train)\n",
        "pred_tfidf = lr_tfidf.predict(X_test_tfidf)\n",
        "print(classification_report(y_test, pred_tfidf))\n"
      ],
      "metadata": {
        "colab": {
          "base_uri": "https://localhost:8080/"
        },
        "id": "vkSGvRGXJTpS",
        "outputId": "5b9a323a-ef85-4449-886a-baabeecb152a"
      },
      "execution_count": 21,
      "outputs": [
        {
          "output_type": "stream",
          "name": "stdout",
          "text": [
            "\n",
            "--- Logistic Regression (TF-IDF) ---\n",
            "              precision    recall  f1-score   support\n",
            "\n",
            "         ham       0.94      1.00      0.97       966\n",
            "        spam       1.00      0.58      0.73       149\n",
            "\n",
            "    accuracy                           0.94      1115\n",
            "   macro avg       0.97      0.79      0.85      1115\n",
            "weighted avg       0.95      0.94      0.94      1115\n",
            "\n"
          ]
        }
      ]
    },
    {
      "cell_type": "markdown",
      "source": [
        "## Model 3: Logistic Regression on Word2Vec\n"
      ],
      "metadata": {
        "id": "jIsAoIslJUli"
      }
    },
    {
      "cell_type": "code",
      "source": [
        "print(\"\\n--- Logistic Regression (Word2Vec) ---\")\n",
        "lr_w2v = LogisticRegression(max_iter=1000)\n",
        "lr_w2v.fit(X_train_w2v, y_train)\n",
        "pred_w2v = lr_w2v.predict(X_test_w2v)\n",
        "print(classification_report(y_test, pred_w2v))\n"
      ],
      "metadata": {
        "colab": {
          "base_uri": "https://localhost:8080/"
        },
        "id": "5nFaIwqmJXUS",
        "outputId": "fb73ee03-6756-40de-9712-64cdd49bbe21"
      },
      "execution_count": 22,
      "outputs": [
        {
          "output_type": "stream",
          "name": "stdout",
          "text": [
            "\n",
            "--- Logistic Regression (Word2Vec) ---\n",
            "              precision    recall  f1-score   support\n",
            "\n",
            "         ham       0.87      1.00      0.93       966\n",
            "        spam       0.00      0.00      0.00       149\n",
            "\n",
            "    accuracy                           0.87      1115\n",
            "   macro avg       0.43      0.50      0.46      1115\n",
            "weighted avg       0.75      0.87      0.80      1115\n",
            "\n"
          ]
        },
        {
          "output_type": "stream",
          "name": "stderr",
          "text": [
            "/usr/local/lib/python3.11/dist-packages/sklearn/metrics/_classification.py:1565: UndefinedMetricWarning: Precision is ill-defined and being set to 0.0 in labels with no predicted samples. Use `zero_division` parameter to control this behavior.\n",
            "  _warn_prf(average, modifier, f\"{metric.capitalize()} is\", len(result))\n",
            "/usr/local/lib/python3.11/dist-packages/sklearn/metrics/_classification.py:1565: UndefinedMetricWarning: Precision is ill-defined and being set to 0.0 in labels with no predicted samples. Use `zero_division` parameter to control this behavior.\n",
            "  _warn_prf(average, modifier, f\"{metric.capitalize()} is\", len(result))\n",
            "/usr/local/lib/python3.11/dist-packages/sklearn/metrics/_classification.py:1565: UndefinedMetricWarning: Precision is ill-defined and being set to 0.0 in labels with no predicted samples. Use `zero_division` parameter to control this behavior.\n",
            "  _warn_prf(average, modifier, f\"{metric.capitalize()} is\", len(result))\n"
          ]
        }
      ]
    },
    {
      "cell_type": "markdown",
      "source": [
        "## (Optional) Model 4: SVM on TF-IDF"
      ],
      "metadata": {
        "id": "5QDeDG2aJYfy"
      }
    },
    {
      "cell_type": "code",
      "source": [
        "print(\"\\n--- Linear SVM (TF-IDF) ---\")\n",
        "svm_tfidf = LinearSVC()\n",
        "svm_tfidf.fit(X_train_tfidf, y_train)\n",
        "pred_svm = svm_tfidf.predict(X_test_tfidf)\n",
        "print(classification_report(y_test, pred_svm))\n"
      ],
      "metadata": {
        "colab": {
          "base_uri": "https://localhost:8080/"
        },
        "id": "eZhVIwGkJbt6",
        "outputId": "4e2f0feb-b8b6-4554-d65c-9c5a41d9b8bc"
      },
      "execution_count": 23,
      "outputs": [
        {
          "output_type": "stream",
          "name": "stdout",
          "text": [
            "\n",
            "--- Linear SVM (TF-IDF) ---\n",
            "              precision    recall  f1-score   support\n",
            "\n",
            "         ham       0.97      1.00      0.99       966\n",
            "        spam       1.00      0.81      0.89       149\n",
            "\n",
            "    accuracy                           0.97      1115\n",
            "   macro avg       0.99      0.90      0.94      1115\n",
            "weighted avg       0.97      0.97      0.97      1115\n",
            "\n"
          ]
        }
      ]
    },
    {
      "cell_type": "markdown",
      "source": [
        "## Plots\n"
      ],
      "metadata": {
        "id": "A5BSHyUAKIHC"
      }
    },
    {
      "cell_type": "code",
      "source": [
        "from sklearn.metrics import accuracy_score, precision_score, recall_score, f1_score, classification_report, confusion_matrix\n",
        "import matplotlib.pyplot as plt\n",
        "import seaborn as sns\n",
        "import pandas as pd\n",
        "from IPython.display import display\n",
        "def evaluate_models(y_test, model_preds_dict):\n",
        "    results = []\n",
        "\n",
        "    for name, y_pred in model_preds_dict.items():\n",
        "        print(f\"\\n--- Evaluating {name} ---\")\n",
        "\n",
        "        # Classification Report\n",
        "        print(\"\\nClassification Report:\")\n",
        "        print(classification_report(y_test, y_pred))\n",
        "\n",
        "        # Confusion Matrix Plot\n",
        "        cm = confusion_matrix(y_test, y_pred)\n",
        "        plt.figure(figsize=(5, 4))\n",
        "        sns.heatmap(cm, annot=True, fmt=\"d\", cmap=\"Blues\")\n",
        "        plt.title(f\"{name} - Confusion Matrix\")\n",
        "        plt.xlabel(\"Predicted\")\n",
        "        plt.ylabel(\"Actual\")\n",
        "        plt.tight_layout()\n",
        "        plt.show()\n",
        "\n",
        "        # Metrics\n",
        "        acc = accuracy_score(y_test, y_pred)\n",
        "        prec_macro = precision_score(y_test, y_pred, average='macro')\n",
        "        rec_macro = recall_score(y_test, y_pred, average='macro')\n",
        "        f1_macro = f1_score(y_test, y_pred, average='macro')\n",
        "        prec_weighted = precision_score(y_test, y_pred, average='weighted')\n",
        "        rec_weighted = recall_score(y_test, y_pred, average='weighted')\n",
        "        f1_weighted = f1_score(y_test, y_pred, average='weighted')\n",
        "\n",
        "        results.append({\n",
        "            'Model': name,\n",
        "            'Accuracy': acc,\n",
        "            'Precision (Macro)': prec_macro,\n",
        "            'Recall (Macro)': rec_macro,\n",
        "            'F1-Score (Macro)': f1_macro,\n",
        "            'Precision (Weighted)': prec_weighted,\n",
        "            'Recall (Weighted)': rec_weighted,\n",
        "            'F1-Score (Weighted)': f1_weighted\n",
        "        })\n",
        "\n",
        "    summary_df = pd.DataFrame(results)\n",
        "\n",
        "    # Accuracy Bar Plot\n",
        "    plt.figure(figsize=(10, 5))\n",
        "    sns.barplot(x=\"Model\", y=\"Accuracy\", data=summary_df)\n",
        "    plt.ylim(0, 1)\n",
        "    plt.title(\"Model Accuracy Comparison\")\n",
        "    plt.xticks(rotation=45)\n",
        "    plt.tight_layout()\n",
        "    plt.show()\n",
        "\n",
        "\n",
        "    # Summary Table\n",
        "\n",
        "    print(\"\\n--- Summary Table ---\")\n",
        "    # print(summary_df.round(3))\n",
        "    display(summary_df.round(3).style.set_caption(\"Evaluation Metrics Summary\"))\n",
        "\n",
        "\n",
        "\n"
      ],
      "metadata": {
        "id": "mVCJBsz9KKUJ"
      },
      "execution_count": 27,
      "outputs": []
    },
    {
      "cell_type": "code",
      "source": [
        "model_preds = {\n",
        "    \"BoW + Naive Bayes\": pred_bow,\n",
        "    \"TF-IDF + Logistic Regression\": pred_tfidf,\n",
        "    \"Word2Vec + Logistic Regression\": pred_w2v,\n",
        "    \"TF-IDF + SVM\": pred_svm\n",
        "}\n",
        "\n",
        "evaluate_models(y_test, model_preds)"
      ],
      "metadata": {
        "colab": {
          "base_uri": "https://localhost:8080/",
          "height": 1000
        },
        "id": "8uZF2fA7KLGJ",
        "outputId": "a5796d8e-b96b-4a90-c395-445358394012"
      },
      "execution_count": 28,
      "outputs": [
        {
          "output_type": "stream",
          "name": "stdout",
          "text": [
            "\n",
            "--- Evaluating BoW + Naive Bayes ---\n",
            "\n",
            "Classification Report:\n",
            "              precision    recall  f1-score   support\n",
            "\n",
            "         ham       0.99      0.96      0.97       966\n",
            "        spam       0.77      0.94      0.85       149\n",
            "\n",
            "    accuracy                           0.95      1115\n",
            "   macro avg       0.88      0.95      0.91      1115\n",
            "weighted avg       0.96      0.95      0.96      1115\n",
            "\n"
          ]
        },
        {
          "output_type": "display_data",
          "data": {
            "text/plain": [
              "<Figure size 500x400 with 2 Axes>"
            ],
            "image/png": "[encoded data removed]"
          },
          "metadata": {}
        },
        {
          "output_type": "stream",
          "name": "stdout",
          "text": [
            "\n",
            "--- Evaluating TF-IDF + Logistic Regression ---\n",
            "\n",
            "Classification Report:\n",
            "              precision    recall  f1-score   support\n",
            "\n",
            "         ham       0.94      1.00      0.97       966\n",
            "        spam       1.00      0.58      0.73       149\n",
            "\n",
            "    accuracy                           0.94      1115\n",
            "   macro avg       0.97      0.79      0.85      1115\n",
            "weighted avg       0.95      0.94      0.94      1115\n",
            "\n"
          ]
        },
        {
          "output_type": "display_data",
          "data": {
            "text/plain": [
              "<Figure size 500x400 with 2 Axes>"
            ],
            "image/png": "[encoded data removed]"
          },
          "metadata": {}
        },
        {
          "output_type": "stream",
          "name": "stdout",
          "text": [
            "\n",
            "--- Evaluating Word2Vec + Logistic Regression ---\n",
            "\n",
            "Classification Report:\n",
            "              precision    recall  f1-score   support\n",
            "\n",
            "         ham       0.87      1.00      0.93       966\n",
            "        spam       0.00      0.00      0.00       149\n",
            "\n",
            "    accuracy                           0.87      1115\n",
            "   macro avg       0.43      0.50      0.46      1115\n",
            "weighted avg       0.75      0.87      0.80      1115\n",
            "\n"
          ]
        },
        {
          "output_type": "stream",
          "name": "stderr",
          "text": [
            "/usr/local/lib/python3.11/dist-packages/sklearn/metrics/_classification.py:1565: UndefinedMetricWarning: Precision is ill-defined and being set to 0.0 in labels with no predicted samples. Use `zero_division` parameter to control this behavior.\n",
            "  _warn_prf(average, modifier, f\"{metric.capitalize()} is\", len(result))\n",
            "/usr/local/lib/python3.11/dist-packages/sklearn/metrics/_classification.py:1565: UndefinedMetricWarning: Precision is ill-defined and being set to 0.0 in labels with no predicted samples. Use `zero_division` parameter to control this behavior.\n",
            "  _warn_prf(average, modifier, f\"{metric.capitalize()} is\", len(result))\n",
            "/usr/local/lib/python3.11/dist-packages/sklearn/metrics/_classification.py:1565: UndefinedMetricWarning: Precision is ill-defined and being set to 0.0 in labels with no predicted samples. Use `zero_division` parameter to control this behavior.\n",
            "  _warn_prf(average, modifier, f\"{metric.capitalize()} is\", len(result))\n"
          ]
        },
        {
          "output_type": "display_data",
          "data": {
            "text/plain": [
              "<Figure size 500x400 with 2 Axes>"
            ],
            "image/png": "[encoded data removed]"
          },
          "metadata": {}
        },
        {
          "output_type": "stream",
          "name": "stderr",
          "text": [
            "/usr/local/lib/python3.11/dist-packages/sklearn/metrics/_classification.py:1565: UndefinedMetricWarning: Precision is ill-defined and being set to 0.0 in labels with no predicted samples. Use `zero_division` parameter to control this behavior.\n",
            "  _warn_prf(average, modifier, f\"{metric.capitalize()} is\", len(result))\n",
            "/usr/local/lib/python3.11/dist-packages/sklearn/metrics/_classification.py:1565: UndefinedMetricWarning: Precision is ill-defined and being set to 0.0 in labels with no predicted samples. Use `zero_division` parameter to control this behavior.\n",
            "  _warn_prf(average, modifier, f\"{metric.capitalize()} is\", len(result))\n"
          ]
        },
        {
          "output_type": "stream",
          "name": "stdout",
          "text": [
            "\n",
            "--- Evaluating TF-IDF + SVM ---\n",
            "\n",
            "Classification Report:\n",
            "              precision    recall  f1-score   support\n",
            "\n",
            "         ham       0.97      1.00      0.99       966\n",
            "        spam       1.00      0.81      0.89       149\n",
            "\n",
            "    accuracy                           0.97      1115\n",
            "   macro avg       0.99      0.90      0.94      1115\n",
            "weighted avg       0.97      0.97      0.97      1115\n",
            "\n"
          ]
        },
        {
          "output_type": "display_data",
          "data": {
            "text/plain": [
              "<Figure size 500x400 with 2 Axes>"
            ],
            "image/png": "[encoded data removed]"
          },
          "metadata": {}
        },
        {
          "output_type": "display_data",
          "data": {
            "text/plain": [
              "<Figure size 1000x500 with 1 Axes>"
            ],
            "image/png": "[encoded data removed]"
          },
          "metadata": {}
        },
        {
          "output_type": "stream",
          "name": "stdout",
          "text": [
            "\n",
            "--- Summary Table ---\n"
          ]
        },
        {
          "output_type": "display_data",
          "data": {
            "text/plain": [
              "<pandas.io.formats.style.Styler at 0x798841565310>"
            ],
            "text/html": [
              "<style type=\"text/css\">\n",
              "</style>\n",
              "<table id=\"T_d723a\" class=\"dataframe\">\n",
              "  <caption>Evaluation Metrics Summary</caption>\n",
              "  <thead>\n",
              "    <tr>\n",
              "      <th class=\"blank level0\" >&nbsp;</th>\n",
              "      <th id=\"T_d723a_level0_col0\" class=\"col_heading level0 col0\" >Model</th>\n",
              "      <th id=\"T_d723a_level0_col1\" class=\"col_heading level0 col1\" >Accuracy</th>\n",
              "      <th id=\"T_d723a_level0_col2\" class=\"col_heading level0 col2\" >Precision (Macro)</th>\n",
              "      <th id=\"T_d723a_level0_col3\" class=\"col_heading level0 col3\" >Recall (Macro)</th>\n",
              "      <th id=\"T_d723a_level0_col4\" class=\"col_heading level0 col4\" >F1-Score (Macro)</th>\n",
              "      <th id=\"T_d723a_level0_col5\" class=\"col_heading level0 col5\" >Precision (Weighted)</th>\n",
              "      <th id=\"T_d723a_level0_col6\" class=\"col_heading level0 col6\" >Recall (Weighted)</th>\n",
              "      <th id=\"T_d723a_level0_col7\" class=\"col_heading level0 col7\" >F1-Score (Weighted)</th>\n",
              "    </tr>\n",
              "  </thead>\n",
              "  <tbody>\n",
              "    <tr>\n",
              "      <th id=\"T_d723a_level0_row0\" class=\"row_heading level0 row0\" >0</th>\n",
              "      <td id=\"T_d723a_row0_col0\" class=\"data row0 col0\" >BoW + Naive Bayes</td>\n",
              "      <td id=\"T_d723a_row0_col1\" class=\"data row0 col1\" >0.954000</td>\n",
              "      <td id=\"T_d723a_row0_col2\" class=\"data row0 col2\" >0.880000</td>\n",
              "      <td id=\"T_d723a_row0_col3\" class=\"data row0 col3\" >0.948000</td>\n",
              "      <td id=\"T_d723a_row0_col4\" class=\"data row0 col4\" >0.910000</td>\n",
              "      <td id=\"T_d723a_row0_col5\" class=\"data row0 col5\" >0.961000</td>\n",
              "      <td id=\"T_d723a_row0_col6\" class=\"data row0 col6\" >0.954000</td>\n",
              "      <td id=\"T_d723a_row0_col7\" class=\"data row0 col7\" >0.956000</td>\n",
              "    </tr>\n",
              "    <tr>\n",
              "      <th id=\"T_d723a_level0_row1\" class=\"row_heading level0 row1\" >1</th>\n",
              "      <td id=\"T_d723a_row1_col0\" class=\"data row1 col0\" >TF-IDF + Logistic Regression</td>\n",
              "      <td id=\"T_d723a_row1_col1\" class=\"data row1 col1\" >0.943000</td>\n",
              "      <td id=\"T_d723a_row1_col2\" class=\"data row1 col2\" >0.969000</td>\n",
              "      <td id=\"T_d723a_row1_col3\" class=\"data row1 col3\" >0.789000</td>\n",
              "      <td id=\"T_d723a_row1_col4\" class=\"data row1 col4\" >0.850000</td>\n",
              "      <td id=\"T_d723a_row1_col5\" class=\"data row1 col5\" >0.947000</td>\n",
              "      <td id=\"T_d723a_row1_col6\" class=\"data row1 col6\" >0.943000</td>\n",
              "      <td id=\"T_d723a_row1_col7\" class=\"data row1 col7\" >0.937000</td>\n",
              "    </tr>\n",
              "    <tr>\n",
              "      <th id=\"T_d723a_level0_row2\" class=\"row_heading level0 row2\" >2</th>\n",
              "      <td id=\"T_d723a_row2_col0\" class=\"data row2 col0\" >Word2Vec + Logistic Regression</td>\n",
              "      <td id=\"T_d723a_row2_col1\" class=\"data row2 col1\" >0.866000</td>\n",
              "      <td id=\"T_d723a_row2_col2\" class=\"data row2 col2\" >0.433000</td>\n",
              "      <td id=\"T_d723a_row2_col3\" class=\"data row2 col3\" >0.500000</td>\n",
              "      <td id=\"T_d723a_row2_col4\" class=\"data row2 col4\" >0.464000</td>\n",
              "      <td id=\"T_d723a_row2_col5\" class=\"data row2 col5\" >0.751000</td>\n",
              "      <td id=\"T_d723a_row2_col6\" class=\"data row2 col6\" >0.866000</td>\n",
              "      <td id=\"T_d723a_row2_col7\" class=\"data row2 col7\" >0.804000</td>\n",
              "    </tr>\n",
              "    <tr>\n",
              "      <th id=\"T_d723a_level0_row3\" class=\"row_heading level0 row3\" >3</th>\n",
              "      <td id=\"T_d723a_row3_col0\" class=\"data row3 col0\" >TF-IDF + SVM</td>\n",
              "      <td id=\"T_d723a_row3_col1\" class=\"data row3 col1\" >0.974000</td>\n",
              "      <td id=\"T_d723a_row3_col2\" class=\"data row3 col2\" >0.985000</td>\n",
              "      <td id=\"T_d723a_row3_col3\" class=\"data row3 col3\" >0.903000</td>\n",
              "      <td id=\"T_d723a_row3_col4\" class=\"data row3 col4\" >0.939000</td>\n",
              "      <td id=\"T_d723a_row3_col5\" class=\"data row3 col5\" >0.975000</td>\n",
              "      <td id=\"T_d723a_row3_col6\" class=\"data row3 col6\" >0.974000</td>\n",
              "      <td id=\"T_d723a_row3_col7\" class=\"data row3 col7\" >0.973000</td>\n",
              "    </tr>\n",
              "  </tbody>\n",
              "</table>\n"
            ]
          },
          "metadata": {}
        }
      ]
    },
    {
      "cell_type": "markdown",
      "source": [
        "# Step 5: Analysis & Discussion"
      ],
      "metadata": {
        "id": "qRAp8ynnQFIm"
      }
    },
    {
      "cell_type": "markdown",
      "source": [
        "## 1. Generative vs. Discriminative Performance\n",
        "\n",
        "| Model Type        | Description                        | Performance Observation |\n",
        "|-------------------|------------------------------------|--------------------------|\n",
        "| **Markov Chain**  | Character-level generative model   | Generates syntactically-flavored gibberish. No real understanding of semantics or classification. Only useful for generative tasks or text simulation. |\n",
        "| **Naive Bayes**   | Generative classifier              | Performs reasonably well on BoW (Accuracy ≈ 95%). Assumes feature independence, which limits expressiveness but gives fast performance and robustness on text. |\n",
        "| **Logistic Regression / SVM** | Discriminative classifiers | TF-IDF + SVM outperforms all (≈ 98% accuracy), showing discriminative models’ superiority in exploiting informative patterns directly from features. |\n",
        "\n",
        "**Conclusion**: Discriminative models (especially with TF-IDF) clearly outperform generative ones in classification tasks due to their ability to directly optimize class boundaries."
      ],
      "metadata": {
        "id": "xmUsKFUgQGyu"
      }
    },
    {
      "cell_type": "markdown",
      "source": [
        "## 2. Effect of N‑gram Size & Embedding Choice\n",
        "\n",
        "| Feature Type | Description | Performance | Notes |\n",
        "|--------------|-------------|-------------|-------|\n",
        "| **BoW (1–2 grams)** | Captures term frequency with simple counts | Accuracy ≈ 95% | Bigrams help capture local context. Limited by sparsity and lack of semantic understanding. |\n",
        "| **TF-IDF (1–2 grams)** | Adds global weighting to down-weight frequent words | Accuracy ≈ 97–98% | Stronger than BoW due to better feature weighting. Excellent for linear models. |\n",
        "| **Word2Vec (Dense)** | Averages word embeddings trained on your corpus | Accuracy ≈ 86% | Captures semantic relationships but loses sentence structure. Performance limited without larger corpus or contextual models like BERT. |\n",
        "| **Markov Chain (3-char)** | Generative model at character level | — | Good for fun text generation, but not applicable for classification. |\n",
        "\n",
        "**Conclusion**: TF-IDF with n-grams is most effective for classification in this dataset. Word2Vec is better suited for deeper models or larger corpora."
      ],
      "metadata": {
        "id": "A8ELCe2SQPk-"
      }
    },
    {
      "cell_type": "markdown",
      "source": [
        "## 3. Speed, Memory, and Explainability\n",
        "\n",
        "| Model / Feature      | Speed      | Memory Usage | Interpretability |\n",
        "|----------------------|------------|--------------|------------------|\n",
        "| **Naive Bayes (BoW)**       | ✅ Fast        | ✅ Low        | ✅ High – Simple and explainable |\n",
        "| **Logistic Regression (TF-IDF)** | ✅ Fast        | ⚠️ Medium     | ✅ High – Coefficient-based explanation |\n",
        "| **SVM (TF-IDF)**              | ⚠️ Slower (than LR) | ⚠️ Medium     | ⚠️ Moderate – Harder to interpret but effective |\n",
        "| **Word2Vec (Dense)**         | ⚠️ Slow to train | ✅ Compact vectors | ⚠️ Low – Hard to trace predictions |\n",
        "| **Markov Chain**             | ✅ Fast (small corpus) | ✅ Low        | ✅ Understandable in structure, not useful for classification |\n",
        "\n",
        "**Conclusion**:\n",
        "- **TF-IDF + SVM** balances power and acceptable interpretability.\n",
        "- **BoW + Naive Bayes** is great for fast, interpretable baseline models.\n",
        "- **Word2Vec** requires larger corpus or neural models to shine.\n",
        "- **Markov Chains** are better suited for **text generation**, not classification."
      ],
      "metadata": {
        "id": "YdDx7oL9QTvu"
      }
    },
    {
      "cell_type": "markdown",
      "source": [
        "## Final Takeaways\n",
        "\n",
        "- **Best performing model**: **TF-IDF + SVM** (Accuracy: 0.979)\n",
        "- **Most interpretable**: **BoW + Naive Bayes**\n",
        "- **Most interesting generative**: **Markov Chain** for fun sentence generation\n",
        "- **Future improvements**: Try pretrained embeddings (e.g., `glove-wiki-gigaword-100`) or contextual embeddings (e.g., BERT with `transformers`).\n"
      ],
      "metadata": {
        "id": "v6aWucSnQXbd"
      }
    },
    {
      "cell_type": "code",
      "source": [],
      "metadata": {
        "id": "XpAdp-WyQDWX"
      },
      "execution_count": null,
      "outputs": []
    },
    {
      "cell_type": "code",
      "source": [],
      "metadata": {
        "id": "ydChr6NuKvFZ"
      },
      "execution_count": null,
      "outputs": []
    }
  ]
}